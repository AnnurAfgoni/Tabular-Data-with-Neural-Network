{
 "cells": [
  {
   "cell_type": "code",
   "execution_count": 1,
   "id": "1e2b994e",
   "metadata": {},
   "outputs": [],
   "source": [
    "# import necessary module\n",
    "\n",
    "import numpy as np\n",
    "import pandas as pd\n",
    "\n",
    "from keras.models import Sequential\n",
    "from keras.layers import Dense\n",
    "\n",
    "from sklearn.model_selection import train_test_split"
   ]
  },
  {
   "cell_type": "code",
   "execution_count": 2,
   "id": "c30d4ee7",
   "metadata": {},
   "outputs": [],
   "source": [
    "# fungsi untuk generate data akar-akar persamaan kuadrat\n",
    "\n",
    "def akar(a,b,c):\n",
    "    D = b*b - 4*a*c\n",
    "    for i in D:\n",
    "        if i >= 0:\n",
    "            x1 = (-b + np.sqrt(D)) / (2*a)\n",
    "            x2 = (-b - np.sqrt(D)) / (2*a)\n",
    "        else:\n",
    "            pass\n",
    "    return x1, x2"
   ]
  },
  {
   "cell_type": "code",
   "execution_count": 3,
   "id": "ac8b9167",
   "metadata": {},
   "outputs": [],
   "source": [
    "# koefisien persamaan kuadrat\n",
    "\n",
    "np.random.seed(0)\n",
    "\n",
    "a = np.random.randint(1,4, 1000)\n",
    "b = np.random.randint(5,11, 1000)\n",
    "c = np.random.randint(0,3, 1000)\n",
    "\n",
    "x1, x2 = akar(a,b,c)"
   ]
  },
  {
   "cell_type": "code",
   "execution_count": 4,
   "id": "ec0cea79",
   "metadata": {},
   "outputs": [
    {
     "data": {
      "text/html": [
       "<div>\n",
       "<style scoped>\n",
       "    .dataframe tbody tr th:only-of-type {\n",
       "        vertical-align: middle;\n",
       "    }\n",
       "\n",
       "    .dataframe tbody tr th {\n",
       "        vertical-align: top;\n",
       "    }\n",
       "\n",
       "    .dataframe thead th {\n",
       "        text-align: right;\n",
       "    }\n",
       "</style>\n",
       "<table border=\"1\" class=\"dataframe\">\n",
       "  <thead>\n",
       "    <tr style=\"text-align: right;\">\n",
       "      <th></th>\n",
       "      <th>a</th>\n",
       "      <th>b</th>\n",
       "      <th>c</th>\n",
       "      <th>x1</th>\n",
       "      <th>x2</th>\n",
       "    </tr>\n",
       "  </thead>\n",
       "  <tbody>\n",
       "    <tr>\n",
       "      <th>0</th>\n",
       "      <td>1</td>\n",
       "      <td>6</td>\n",
       "      <td>1</td>\n",
       "      <td>-0.171573</td>\n",
       "      <td>-5.828427</td>\n",
       "    </tr>\n",
       "    <tr>\n",
       "      <th>1</th>\n",
       "      <td>2</td>\n",
       "      <td>6</td>\n",
       "      <td>2</td>\n",
       "      <td>-0.381966</td>\n",
       "      <td>-2.618034</td>\n",
       "    </tr>\n",
       "    <tr>\n",
       "      <th>2</th>\n",
       "      <td>1</td>\n",
       "      <td>10</td>\n",
       "      <td>1</td>\n",
       "      <td>-0.101021</td>\n",
       "      <td>-9.898979</td>\n",
       "    </tr>\n",
       "    <tr>\n",
       "      <th>3</th>\n",
       "      <td>2</td>\n",
       "      <td>6</td>\n",
       "      <td>0</td>\n",
       "      <td>0.000000</td>\n",
       "      <td>-3.000000</td>\n",
       "    </tr>\n",
       "    <tr>\n",
       "      <th>4</th>\n",
       "      <td>2</td>\n",
       "      <td>9</td>\n",
       "      <td>0</td>\n",
       "      <td>0.000000</td>\n",
       "      <td>-4.500000</td>\n",
       "    </tr>\n",
       "    <tr>\n",
       "      <th>...</th>\n",
       "      <td>...</td>\n",
       "      <td>...</td>\n",
       "      <td>...</td>\n",
       "      <td>...</td>\n",
       "      <td>...</td>\n",
       "    </tr>\n",
       "    <tr>\n",
       "      <th>995</th>\n",
       "      <td>3</td>\n",
       "      <td>9</td>\n",
       "      <td>0</td>\n",
       "      <td>0.000000</td>\n",
       "      <td>-3.000000</td>\n",
       "    </tr>\n",
       "    <tr>\n",
       "      <th>996</th>\n",
       "      <td>2</td>\n",
       "      <td>6</td>\n",
       "      <td>0</td>\n",
       "      <td>0.000000</td>\n",
       "      <td>-3.000000</td>\n",
       "    </tr>\n",
       "    <tr>\n",
       "      <th>997</th>\n",
       "      <td>1</td>\n",
       "      <td>8</td>\n",
       "      <td>2</td>\n",
       "      <td>-0.258343</td>\n",
       "      <td>-7.741657</td>\n",
       "    </tr>\n",
       "    <tr>\n",
       "      <th>998</th>\n",
       "      <td>3</td>\n",
       "      <td>8</td>\n",
       "      <td>1</td>\n",
       "      <td>-0.131483</td>\n",
       "      <td>-2.535184</td>\n",
       "    </tr>\n",
       "    <tr>\n",
       "      <th>999</th>\n",
       "      <td>3</td>\n",
       "      <td>8</td>\n",
       "      <td>2</td>\n",
       "      <td>-0.279241</td>\n",
       "      <td>-2.387426</td>\n",
       "    </tr>\n",
       "  </tbody>\n",
       "</table>\n",
       "<p>1000 rows × 5 columns</p>\n",
       "</div>"
      ],
      "text/plain": [
       "     a   b  c        x1        x2\n",
       "0    1   6  1 -0.171573 -5.828427\n",
       "1    2   6  2 -0.381966 -2.618034\n",
       "2    1  10  1 -0.101021 -9.898979\n",
       "3    2   6  0  0.000000 -3.000000\n",
       "4    2   9  0  0.000000 -4.500000\n",
       "..  ..  .. ..       ...       ...\n",
       "995  3   9  0  0.000000 -3.000000\n",
       "996  2   6  0  0.000000 -3.000000\n",
       "997  1   8  2 -0.258343 -7.741657\n",
       "998  3   8  1 -0.131483 -2.535184\n",
       "999  3   8  2 -0.279241 -2.387426\n",
       "\n",
       "[1000 rows x 5 columns]"
      ]
     },
     "execution_count": 4,
     "metadata": {},
     "output_type": "execute_result"
    }
   ],
   "source": [
    "# see data\n",
    "\n",
    "data = {'a' : a,\n",
    "        'b' : b,\n",
    "        'c' : c,\n",
    "        'x1' : x1,\n",
    "        'x2' : x2\n",
    "       }\n",
    "df = pd.DataFrame(data)\n",
    "df"
   ]
  },
  {
   "cell_type": "code",
   "execution_count": 5,
   "id": "b3d27acd",
   "metadata": {},
   "outputs": [],
   "source": [
    "# build model\n",
    "\n",
    "def get_model(n_inputs, n_outputs):\n",
    "    model = Sequential()\n",
    "    model.add(Dense(20, input_dim = n_inputs, kernel_initializer='he_uniform', activation='relu'))\n",
    "    model.add(Dense(n_outputs))\n",
    "    model.compile(loss='mae', optimizer='adam')\n",
    "    return model"
   ]
  },
  {
   "cell_type": "code",
   "execution_count": 6,
   "id": "e8c07524",
   "metadata": {},
   "outputs": [],
   "source": [
    "# split\n",
    "\n",
    "X = df.iloc[:, [0,1,2]]\n",
    "Y = df.iloc[:, [3,4]]\n",
    "\n",
    "X_train, X_test, Y_train, Y_test = train_test_split(X, Y, test_size = 0.1)"
   ]
  },
  {
   "cell_type": "code",
   "execution_count": 7,
   "id": "44e6e744",
   "metadata": {},
   "outputs": [],
   "source": [
    "baris1, n_input = X.shape\n",
    "baris2, n_output = Y.shape\n",
    "\n",
    "model = get_model(n_input, n_output)"
   ]
  },
  {
   "cell_type": "code",
   "execution_count": 8,
   "id": "997c48fb",
   "metadata": {},
   "outputs": [
    {
     "data": {
      "text/plain": [
       "<keras.callbacks.History at 0x19f414db160>"
      ]
     },
     "execution_count": 8,
     "metadata": {},
     "output_type": "execute_result"
    }
   ],
   "source": [
    "model.fit(X_train, Y_train, verbose=0, epochs=100)"
   ]
  },
  {
   "cell_type": "code",
   "execution_count": 9,
   "id": "bf70ec5d",
   "metadata": {},
   "outputs": [
    {
     "data": {
      "text/plain": [
       "0.06894169002771378"
      ]
     },
     "execution_count": 9,
     "metadata": {},
     "output_type": "execute_result"
    }
   ],
   "source": [
    "model.evaluate(X_test, Y_test, verbose=0)"
   ]
  },
  {
   "cell_type": "code",
   "execution_count": 10,
   "id": "98a4ebf4",
   "metadata": {},
   "outputs": [],
   "source": [
    "hasil = model.predict(X_test)"
   ]
  },
  {
   "cell_type": "code",
   "execution_count": 11,
   "id": "8370d501",
   "metadata": {},
   "outputs": [
    {
     "data": {
      "text/html": [
       "<div>\n",
       "<style scoped>\n",
       "    .dataframe tbody tr th:only-of-type {\n",
       "        vertical-align: middle;\n",
       "    }\n",
       "\n",
       "    .dataframe tbody tr th {\n",
       "        vertical-align: top;\n",
       "    }\n",
       "\n",
       "    .dataframe thead th {\n",
       "        text-align: right;\n",
       "    }\n",
       "</style>\n",
       "<table border=\"1\" class=\"dataframe\">\n",
       "  <thead>\n",
       "    <tr style=\"text-align: right;\">\n",
       "      <th></th>\n",
       "      <th>x1 pred</th>\n",
       "      <th>x1 real</th>\n",
       "    </tr>\n",
       "  </thead>\n",
       "  <tbody>\n",
       "    <tr>\n",
       "      <th>0</th>\n",
       "      <td>-0.009487</td>\n",
       "      <td>0.000000</td>\n",
       "    </tr>\n",
       "    <tr>\n",
       "      <th>1</th>\n",
       "      <td>0.015878</td>\n",
       "      <td>0.000000</td>\n",
       "    </tr>\n",
       "    <tr>\n",
       "      <th>2</th>\n",
       "      <td>-0.009147</td>\n",
       "      <td>0.000000</td>\n",
       "    </tr>\n",
       "    <tr>\n",
       "      <th>3</th>\n",
       "      <td>0.015878</td>\n",
       "      <td>0.000000</td>\n",
       "    </tr>\n",
       "    <tr>\n",
       "      <th>4</th>\n",
       "      <td>-0.276144</td>\n",
       "      <td>-0.241694</td>\n",
       "    </tr>\n",
       "    <tr>\n",
       "      <th>...</th>\n",
       "      <td>...</td>\n",
       "      <td>...</td>\n",
       "    </tr>\n",
       "    <tr>\n",
       "      <th>95</th>\n",
       "      <td>-0.162011</td>\n",
       "      <td>-0.152873</td>\n",
       "    </tr>\n",
       "    <tr>\n",
       "      <th>96</th>\n",
       "      <td>-0.345957</td>\n",
       "      <td>-0.232408</td>\n",
       "    </tr>\n",
       "    <tr>\n",
       "      <th>97</th>\n",
       "      <td>-0.009487</td>\n",
       "      <td>0.000000</td>\n",
       "    </tr>\n",
       "    <tr>\n",
       "      <th>98</th>\n",
       "      <td>-0.291589</td>\n",
       "      <td>-0.267949</td>\n",
       "    </tr>\n",
       "    <tr>\n",
       "      <th>99</th>\n",
       "      <td>-0.166038</td>\n",
       "      <td>-0.149219</td>\n",
       "    </tr>\n",
       "  </tbody>\n",
       "</table>\n",
       "<p>100 rows × 2 columns</p>\n",
       "</div>"
      ],
      "text/plain": [
       "     x1 pred   x1 real\n",
       "0  -0.009487  0.000000\n",
       "1   0.015878  0.000000\n",
       "2  -0.009147  0.000000\n",
       "3   0.015878  0.000000\n",
       "4  -0.276144 -0.241694\n",
       "..       ...       ...\n",
       "95 -0.162011 -0.152873\n",
       "96 -0.345957 -0.232408\n",
       "97 -0.009487  0.000000\n",
       "98 -0.291589 -0.267949\n",
       "99 -0.166038 -0.149219\n",
       "\n",
       "[100 rows x 2 columns]"
      ]
     },
     "execution_count": 11,
     "metadata": {},
     "output_type": "execute_result"
    }
   ],
   "source": [
    "akar1 = {\"x1 pred\": hasil[:, 0],\n",
    "         \"x1 real\": Y_test.to_numpy()[:, 0]        \n",
    "        }\n",
    "pd.DataFrame(akar1)"
   ]
  },
  {
   "cell_type": "code",
   "execution_count": 12,
   "id": "51b7eaa3",
   "metadata": {},
   "outputs": [
    {
     "data": {
      "text/html": [
       "<div>\n",
       "<style scoped>\n",
       "    .dataframe tbody tr th:only-of-type {\n",
       "        vertical-align: middle;\n",
       "    }\n",
       "\n",
       "    .dataframe tbody tr th {\n",
       "        vertical-align: top;\n",
       "    }\n",
       "\n",
       "    .dataframe thead th {\n",
       "        text-align: right;\n",
       "    }\n",
       "</style>\n",
       "<table border=\"1\" class=\"dataframe\">\n",
       "  <thead>\n",
       "    <tr style=\"text-align: right;\">\n",
       "      <th></th>\n",
       "      <th>x2 pred</th>\n",
       "      <th>x2 real</th>\n",
       "    </tr>\n",
       "  </thead>\n",
       "  <tbody>\n",
       "    <tr>\n",
       "      <th>0</th>\n",
       "      <td>-9.936335</td>\n",
       "      <td>-10.000000</td>\n",
       "    </tr>\n",
       "    <tr>\n",
       "      <th>1</th>\n",
       "      <td>-5.613750</td>\n",
       "      <td>-5.000000</td>\n",
       "    </tr>\n",
       "    <tr>\n",
       "      <th>2</th>\n",
       "      <td>-3.941186</td>\n",
       "      <td>-4.000000</td>\n",
       "    </tr>\n",
       "    <tr>\n",
       "      <th>3</th>\n",
       "      <td>-5.613750</td>\n",
       "      <td>-5.000000</td>\n",
       "    </tr>\n",
       "    <tr>\n",
       "      <th>4</th>\n",
       "      <td>-2.713518</td>\n",
       "      <td>-2.758306</td>\n",
       "    </tr>\n",
       "    <tr>\n",
       "      <th>...</th>\n",
       "      <td>...</td>\n",
       "      <td>...</td>\n",
       "    </tr>\n",
       "    <tr>\n",
       "      <th>95</th>\n",
       "      <td>-2.143845</td>\n",
       "      <td>-2.180460</td>\n",
       "    </tr>\n",
       "    <tr>\n",
       "      <th>96</th>\n",
       "      <td>-1.424888</td>\n",
       "      <td>-1.434259</td>\n",
       "    </tr>\n",
       "    <tr>\n",
       "      <th>97</th>\n",
       "      <td>-9.936335</td>\n",
       "      <td>-10.000000</td>\n",
       "    </tr>\n",
       "    <tr>\n",
       "      <th>98</th>\n",
       "      <td>-3.759579</td>\n",
       "      <td>-3.732051</td>\n",
       "    </tr>\n",
       "    <tr>\n",
       "      <th>99</th>\n",
       "      <td>-3.128172</td>\n",
       "      <td>-3.350781</td>\n",
       "    </tr>\n",
       "  </tbody>\n",
       "</table>\n",
       "<p>100 rows × 2 columns</p>\n",
       "</div>"
      ],
      "text/plain": [
       "     x2 pred    x2 real\n",
       "0  -9.936335 -10.000000\n",
       "1  -5.613750  -5.000000\n",
       "2  -3.941186  -4.000000\n",
       "3  -5.613750  -5.000000\n",
       "4  -2.713518  -2.758306\n",
       "..       ...        ...\n",
       "95 -2.143845  -2.180460\n",
       "96 -1.424888  -1.434259\n",
       "97 -9.936335 -10.000000\n",
       "98 -3.759579  -3.732051\n",
       "99 -3.128172  -3.350781\n",
       "\n",
       "[100 rows x 2 columns]"
      ]
     },
     "execution_count": 12,
     "metadata": {},
     "output_type": "execute_result"
    }
   ],
   "source": [
    "akar1 = {\"x2 pred\": hasil[:, 1],\n",
    "         \"x2 real\": Y_test.to_numpy()[:, 1]        \n",
    "        }\n",
    "pd.DataFrame(akar1)"
   ]
  },
  {
   "cell_type": "code",
   "execution_count": 13,
   "id": "1116d1a3",
   "metadata": {},
   "outputs": [
    {
     "data": {
      "text/plain": [
       "0.9530657957897781"
      ]
     },
     "execution_count": 13,
     "metadata": {},
     "output_type": "execute_result"
    }
   ],
   "source": [
    "from sklearn.metrics import r2_score\n",
    "r2_score(hasil[:, 0], Y_test.to_numpy()[:, 0])"
   ]
  },
  {
   "cell_type": "code",
   "execution_count": 14,
   "id": "1d889b92",
   "metadata": {},
   "outputs": [
    {
     "data": {
      "text/plain": [
       "0.9941279529114341"
      ]
     },
     "execution_count": 14,
     "metadata": {},
     "output_type": "execute_result"
    }
   ],
   "source": [
    "r2_score(hasil[:, 1], Y_test.to_numpy()[:, 1])"
   ]
  },
  {
   "cell_type": "code",
   "execution_count": null,
   "id": "d37be172",
   "metadata": {},
   "outputs": [],
   "source": []
  }
 ],
 "metadata": {
  "kernelspec": {
   "display_name": "Python 3 (ipykernel)",
   "language": "python",
   "name": "python3"
  },
  "language_info": {
   "codemirror_mode": {
    "name": "ipython",
    "version": 3
   },
   "file_extension": ".py",
   "mimetype": "text/x-python",
   "name": "python",
   "nbconvert_exporter": "python",
   "pygments_lexer": "ipython3",
   "version": "3.9.7"
  }
 },
 "nbformat": 4,
 "nbformat_minor": 5
}
